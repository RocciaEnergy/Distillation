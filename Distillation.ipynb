{
  "nbformat": 4,
  "nbformat_minor": 0,
  "metadata": {
    "colab": {
      "provenance": []
    },
    "kernelspec": {
      "name": "python3",
      "display_name": "Python 3"
    },
    "language_info": {
      "name": "python"
    }
  },
  "cells": [
    {
      "cell_type": "code",
      "execution_count": 1,
      "metadata": {
        "colab": {
          "base_uri": "https://localhost:8080/"
        },
        "id": "UPA6ddAfjXVF",
        "outputId": "39d68da5-68e1-4939-8ea8-e511c9e30785"
      },
      "outputs": [
        {
          "output_type": "stream",
          "name": "stdout",
          "text": [
            "Looking in indexes: https://pypi.org/simple, https://us-python.pkg.dev/colab-wheels/public/simple/\n",
            "Collecting gurobipy\n",
            "  Downloading gurobipy-10.0.0-cp38-cp38-manylinux2014_x86_64.whl (12.8 MB)\n",
            "\u001b[K     |████████████████████████████████| 12.8 MB 7.8 MB/s \n",
            "\u001b[?25hInstalling collected packages: gurobipy\n",
            "Successfully installed gurobipy-10.0.0\n"
          ]
        }
      ],
      "source": [
        "!pip install gurobipy"
      ]
    },
    {
      "cell_type": "code",
      "source": [
        "import numpy as np\n",
        "\n",
        "import gurobipy as gp\n",
        "from gurobipy import GRB\n",
        "\n",
        "# tested with Python 3.7.0 & Gurobi 9.0"
      ],
      "metadata": {
        "id": "cKTQXmbvj03-"
      },
      "execution_count": 2,
      "outputs": []
    },
    {
      "cell_type": "code",
      "source": [
        "# Parameters\n",
        "\n",
        "crude_numbers = range(1,2+1)\n",
        "petrols = [\"Premium_fuel\", \"Regular_fuel\"]\n",
        "end_product_names = [\"Premium_fuel\", \"Regular_fuel\", \"Jet_fuel\", \"Fuel_oil\", \"Lube_oil\"]\n",
        "distillation_products_names = [\"Light_naphtha\", \"Medium_naphtha\", \"Heavy_naphtha\",\n",
        "                               \"Light_oil\", \"Heavy_oil\", \"Residuum\"]\n",
        "naphthas = [\"Light_naphtha\", \"Medium_naphtha\", \"Heavy_naphtha\"]\n",
        "intermediate_oils = [\"Light_oil\", \"Heavy_oil\"]\n",
        "cracking_products_names = [\"Cracked_gasoline\", \"Cracked_oil\"]\n",
        "used_for_motor_fuel_names = [\"Light_naphtha\", \"Medium_naphtha\", \"Heavy_naphtha\",\n",
        "                             \"Reformed_gasoline\", \"Cracked_gasoline\"]\n",
        "used_for_jet_fuel_names = [\"Light_oil\", \"Heavy_oil\", \"Residuum\", \"Cracked_oil\"]\n",
        "\n",
        "buy_limit = {1:20000, 2:30000}\n",
        "lbo_min = 500\n",
        "lbo_max = 1000\n",
        "\n",
        "distill_cap = 45000\n",
        "reform_cap = 10000\n",
        "crack_cap = 8000\n",
        "\n",
        "distillation_splitting_coefficients = {\"Light_naphtha\": (0.1, 0.15),\n",
        "                          \"Medium_naphtha\": (0.2, 0.25),\n",
        "                         \"Heavy_naphtha\": (0.2, 0.18),\n",
        "                         \"Light_oil\": (0.12, 0.08),\n",
        "                         \"Heavy_oil\": (0.2, 0.19),\n",
        "                         \"Residuum\": (0.13, 0.12)}\n",
        "\n",
        "cracking_splitting_coefficients = {(\"Light_oil\",\"Cracked_oil\"): 0.68,\n",
        "                                   (\"Heavy_oil\",\"Cracked_oil\"): 0.75,\n",
        "                                   (\"Light_oil\",\"Cracked_gasoline\"): 0.28,\n",
        "                                   (\"Heavy_oil\",\"Cracked_gasoline\"): 0.2}\n",
        "\n",
        "reforming_splitting_coefficients = {\"Light_naphtha\": 0.6, \"Medium_naphtha\":0.52, \"Heavy_naphtha\":0.45}\n",
        "end_product_profit = {\"Premium_fuel\":7, \"Regular_fuel\":6, \"Jet_fuel\":4, \"Fuel_oil\":3.5, \"Lube_oil\":1.5}\n",
        "blending_coefficients = {\"Light_oil\": 0.55, \"Heavy_oil\": 0.17, \"Cracked_oil\": 0.22, \"Residuum\": 0.055}\n",
        "\n",
        "lube_oil_factor = 0.5\n",
        "pmf_rmf_ratio = 0.4\n",
        "\n",
        "octance_number_coefficients = {\n",
        "    \"Light_naphtha\":90,\n",
        "    \"Medium_naphtha\":80,\n",
        "    \"Heavy_naphtha\":70,\n",
        "    \"Reformed_gasoline\":115,\n",
        "    \"Cracked_gasoline\":105,\n",
        "}\n",
        "octance_number_fuel = {\"Premium_fuel\": 94,\"Regular_fuel\": 84}\n",
        "\n",
        "vapor_pressure_constants = [0.6, 1.5, 0.05]\n"
      ],
      "metadata": {
        "id": "ATO2PPixj-XF"
      },
      "execution_count": 3,
      "outputs": []
    },
    {
      "cell_type": "code",
      "source": [
        "refinery = gp.Model('Refinery_Optimization')\n",
        "\n",
        "# Variables\n",
        "crudes = refinery.addVars(crude_numbers, ub=buy_limit, name=\"cr\")    \n",
        "end_products = refinery.addVars(end_product_names, name=\"end_prod\")\n",
        "end_products[\"Lube_oil\"].lb= lbo_min\n",
        "end_products[\"Lube_oil\"].ub= lbo_max\n",
        "distillation_products = refinery.addVars(distillation_products_names, name=\"dist_prod\")\n",
        "reform_usage = refinery.addVars(naphthas, name=\"napthas_to_reformed_gasoline\")\n",
        "reformed_gasoline = refinery.addVar(name=\"reformed_gasoline\")\n",
        "cracking_usage = refinery.addVars(intermediate_oils,name=\"intermediate_oils_to_cracked_gasoline\")\n",
        "cracking_products = refinery.addVars(cracking_products_names,  name=\"cracking_prods\")\n",
        "used_for_regular_motor_fuel = refinery.addVars(used_for_motor_fuel_names, name=\"motor_fuel_to_regular_motor_fuel\")\n",
        "used_for_premium_motor_fuel = refinery.addVars(used_for_motor_fuel_names, name=\"motot_fuel_to_premium_motor_fuel\")\n",
        "used_for_jet_fuel = refinery.addVars(used_for_jet_fuel_names, name=\"jet_fuel\")\n",
        "used_for_lube_oil = refinery.addVar(vtype=GRB.CONTINUOUS,name=\"residuum_used_for_lube_oil\")\n"
      ],
      "metadata": {
        "colab": {
          "base_uri": "https://localhost:8080/"
        },
        "id": "RyeoVlHWkHO_",
        "outputId": "39f95e22-d803-45c9-9e0c-4e52079c91fc"
      },
      "execution_count": 4,
      "outputs": [
        {
          "output_type": "stream",
          "name": "stdout",
          "text": [
            "Restricted license - for non-production use only - expires 2024-10-28\n"
          ]
        }
      ]
    },
    {
      "cell_type": "code",
      "source": [
        "# 1. Distillation capacity\n",
        "DistillationCap = refinery.addConstr(crudes.sum() <= distill_cap, \"Distill_cap\")"
      ],
      "metadata": {
        "id": "qn2CQ1h_kQUf"
      },
      "execution_count": 5,
      "outputs": []
    },
    {
      "cell_type": "code",
      "source": [
        "# 2. Reforming capacity\n",
        "ReformingCap = refinery.addConstr(reform_usage.sum() <= reform_cap, \"Reform_cap\")"
      ],
      "metadata": {
        "id": "R_CdSAEwkt7n"
      },
      "execution_count": 7,
      "outputs": []
    },
    {
      "cell_type": "code",
      "source": [
        "# 3. Cracking capacity\n",
        "CrackingCap = refinery.addConstr(cracking_usage.sum() <= crack_cap, \"Crack_cap\")"
      ],
      "metadata": {
        "id": "k97iIo7dky3b"
      },
      "execution_count": 8,
      "outputs": []
    },
    {
      "cell_type": "code",
      "source": [
        "# 4.1-4.6 Yield (Crude oil products)\n",
        "YieldCrudeOil = refinery.addConstrs((gp.quicksum(distillation_splitting_coefficients[dpn][crude-1]*crudes[crude] for crude in crudes)\n",
        "                  == distillation_products[dpn] for dpn in distillation_products_names), \"Splitting_distillation\")"
      ],
      "metadata": {
        "id": "bg5q3Ubqk5fg"
      },
      "execution_count": 9,
      "outputs": []
    },
    {
      "cell_type": "code",
      "source": [
        "# 4.7 Yield (Reforming of Naphthas)\n",
        "YieldNaphthas = refinery.addConstr(reform_usage.prod(reforming_splitting_coefficients) == reformed_gasoline, \"Splitting_reforming\")"
      ],
      "metadata": {
        "id": "oWxyy0-rlCs4"
      },
      "execution_count": 10,
      "outputs": []
    },
    {
      "cell_type": "code",
      "source": [
        "# 4.8-4.9 Yield (Cracking of oils)\n",
        "YieldCrackingOil = refinery.addConstrs((gp.quicksum(cracking_splitting_coefficients[oil, crack_prod]*cracking_usage[oil]\n",
        "                           for oil in intermediate_oils) == cracking_products[crack_prod]\n",
        "                  for crack_prod in cracking_products_names),\n",
        "                 name=\"Splitting_cracking\")"
      ],
      "metadata": {
        "id": "veeCUdH3lJOD"
      },
      "execution_count": 11,
      "outputs": []
    },
    {
      "cell_type": "code",
      "source": [
        "# 4.10 Yield (Lube oil)\n",
        "YieldLubeOil = refinery.addConstr(lube_oil_factor*used_for_lube_oil == end_products[\"Lube_oil\"],\n",
        "                \"Splitting_lube_oil\")\n"
      ],
      "metadata": {
        "id": "-54Rmb8ulO29"
      },
      "execution_count": 12,
      "outputs": []
    },
    {
      "cell_type": "code",
      "source": [
        "# 4.11 Yield (Premium gasoline)\n",
        "YieldPremium = refinery.addConstr(used_for_premium_motor_fuel.sum() == end_products[\"Premium_fuel\"], \"Blending_premium_fuel\")\n",
        "\n",
        "# 4.12 Yield (Regular gasoline)\n",
        "YieldRegular = refinery.addConstr(used_for_regular_motor_fuel.sum() == end_products[\"Regular_fuel\"], \"Blending_regular_fuel\")\n",
        "\n",
        "# 4.13 Yield (Jet fuel)\n",
        "YieldJetFuel = refinery.addConstr(used_for_jet_fuel.sum() == end_products[\"Jet_fuel\"], \"Continuity_jet_fuel\")"
      ],
      "metadata": {
        "id": "uHie57lGlWHx"
      },
      "execution_count": 13,
      "outputs": []
    },
    {
      "cell_type": "code",
      "source": [
        "# 5.1-5.3 Mass conservation (Naphthas)\n",
        "MassBalNaphthas = refinery.addConstrs((reform_usage[naphtha] +\n",
        "                    used_for_regular_motor_fuel[naphtha] +\n",
        "                    used_for_premium_motor_fuel[naphtha] ==\n",
        "                    distillation_products[naphtha] for naphtha in naphthas), \"Continuity_napththa\")\n"
      ],
      "metadata": {
        "id": "nxmTf3Zqlfb6"
      },
      "execution_count": 14,
      "outputs": []
    },
    {
      "cell_type": "code",
      "source": [
        "# 5.4 Mass Conservation (Light oil)\n",
        "MassBalLightOil = refinery.addConstr(cracking_usage[\"Light_oil\"]+\n",
        "                used_for_jet_fuel[\"Light_oil\"]+\n",
        "                blending_coefficients[\"Light_oil\"]*end_products[\"Fuel_oil\"] ==\n",
        "                distillation_products[\"Light_oil\"], \"Fixed_proportion_light_oil_for_blending\")\n",
        "\n",
        "# 5.5 Mass Conservation (Heavy oil)\n",
        "MassBalHeavyOil = refinery.addConstr(cracking_usage[\"Heavy_oil\"]+\n",
        "                used_for_jet_fuel[\"Heavy_oil\"]+\n",
        "                blending_coefficients[\"Heavy_oil\"]*end_products[\"Fuel_oil\"] ==\n",
        "                distillation_products[\"Heavy_oil\"], \"Fixed_proportion_heavy_oil_for_blending\")\n",
        "\n",
        "# 5.6 Mass Conservation (Cracked oil)\n",
        "MassBalCrackedOil = refinery.addConstr(used_for_jet_fuel[\"Cracked_oil\"]+\n",
        "                blending_coefficients[\"Cracked_oil\"]*end_products[\"Fuel_oil\"] ==\n",
        "                cracking_products[\"Cracked_oil\"], \"Fixed_proportion_cracked_oil_for_blending\")\n",
        "\n",
        "# 5.7 Mass Conservation (Residuum)\n",
        "MassBalResiduum = refinery.addConstr(used_for_lube_oil +\n",
        "                used_for_jet_fuel[\"Residuum\"]+\n",
        "                blending_coefficients[\"Residuum\"]*end_products[\"Fuel_oil\"] ==\n",
        "                distillation_products[\"Residuum\"], \"Fixed_proportion_residuum_for_blending\")\n",
        "\n",
        "# 5.8 Mass conservation (Cracked gasoline)\n",
        "MassBalCrackedGas = refinery.addConstr(used_for_regular_motor_fuel[\"Cracked_gasoline\"] +\n",
        "                used_for_premium_motor_fuel[\"Cracked_gasoline\"] ==\n",
        "                cracking_products[\"Cracked_gasoline\"], \"Continuity_cracked_gasoline\")\n",
        "\n",
        "# 5.9 Mass conservation (Reformed gasoline)\n",
        "MassBalReformedGas = refinery.addConstr(used_for_regular_motor_fuel[\"Reformed_gasoline\"] +\n",
        "                used_for_premium_motor_fuel[\"Reformed_gasoline\"] ==\n",
        "                reformed_gasoline, \"Continuity_reformed_gasoline\")"
      ],
      "metadata": {
        "id": "NgQlP2j8ltvV"
      },
      "execution_count": 15,
      "outputs": []
    },
    {
      "cell_type": "code",
      "source": [
        "# 7. Premium-to-regular proportion\n",
        "Premium2Regular = refinery.addConstr(end_products[\"Premium_fuel\"] >= pmf_rmf_ratio*end_products[\"Regular_fuel\"],\n",
        "                \"Prem2reg_prop\")\n",
        "\n"
      ],
      "metadata": {
        "id": "agbFWVI3l0RZ"
      },
      "execution_count": 16,
      "outputs": []
    },
    {
      "cell_type": "code",
      "source": [
        "# 8.1-8.2 Octane tolerance\n",
        "OctaneRegular = refinery.addConstr(used_for_regular_motor_fuel.prod(octance_number_coefficients) >=\n",
        "                octance_number_fuel[\"Regular_fuel\"] * end_products[\"Regular_fuel\"],\n",
        "                \"Octane_tol_regular_fuel\")\n",
        "\n",
        "OctanePremium = refinery.addConstr(used_for_premium_motor_fuel.prod(octance_number_coefficients) >=\n",
        "                octance_number_fuel[\"Premium_fuel\"] * end_products[\"Premium_fuel\"],\n",
        "                \"Octane_tol_premium_fuel\")\n"
      ],
      "metadata": {
        "id": "6mebRHPdl6Av"
      },
      "execution_count": 17,
      "outputs": []
    },
    {
      "cell_type": "code",
      "source": [
        "# 9. Vapor-pressure tolerance\n",
        "VaporPressure = refinery.addConstr(used_for_jet_fuel[\"Light_oil\"] +\n",
        "                vapor_pressure_constants[0]*used_for_jet_fuel[\"Heavy_oil\"] +\n",
        "                vapor_pressure_constants[1]*used_for_jet_fuel[\"Cracked_oil\"] +\n",
        "                vapor_pressure_constants[2]*used_for_jet_fuel[\"Residuum\"] <= end_products[\"Jet_fuel\"],\n",
        "                \"Vapor_pressure_tol\")\n",
        "\n"
      ],
      "metadata": {
        "id": "IEaeFHqnl86x"
      },
      "execution_count": 18,
      "outputs": []
    },
    {
      "cell_type": "code",
      "source": [
        "# 0. Profit\n",
        "refinery.setObjective(end_products.prod(end_product_profit), GRB.MAXIMIZE)"
      ],
      "metadata": {
        "id": "7nPp9wYmmEQa"
      },
      "execution_count": 19,
      "outputs": []
    },
    {
      "cell_type": "code",
      "source": [
        "refinery.optimize()"
      ],
      "metadata": {
        "colab": {
          "base_uri": "https://localhost:8080/"
        },
        "id": "xZc08ZlpmN3W",
        "outputId": "962ac8d1-3d26-49c0-da74-427dd1aafcb6"
      },
      "execution_count": 20,
      "outputs": [
        {
          "output_type": "stream",
          "name": "stdout",
          "text": [
            "Gurobi Optimizer version 10.0.0 build v10.0.0rc2 (linux64)\n",
            "\n",
            "CPU model: Intel(R) Xeon(R) CPU @ 2.20GHz, instruction set [SSE2|AVX|AVX2]\n",
            "Thread count: 1 physical cores, 2 logical processors, using up to 2 threads\n",
            "\n",
            "Optimize a model with 30 rows, 36 columns and 108 nonzeros\n",
            "Model fingerprint: 0x6fbfe8a7\n",
            "Coefficient statistics:\n",
            "  Matrix range     [5e-02, 1e+02]\n",
            "  Objective range  [2e+00, 7e+00]\n",
            "  Bounds range     [5e+02, 3e+04]\n",
            "  RHS range        [8e+03, 4e+04]\n",
            "Presolve removed 14 rows and 14 columns\n",
            "Presolve time: 0.02s\n",
            "Presolved: 16 rows, 22 columns, 72 nonzeros\n",
            "\n",
            "Iteration    Objective       Primal Inf.    Dual Inf.      Time\n",
            "       0    1.1887574e+06   6.045565e+04   0.000000e+00      0s\n",
            "      14    2.1136513e+05   0.000000e+00   0.000000e+00      0s\n",
            "\n",
            "Solved in 14 iterations and 0.03 seconds (0.00 work units)\n",
            "Optimal objective  2.113651348e+05\n"
          ]
        }
      ]
    },
    {
      "cell_type": "code",
      "source": [
        "for var in refinery.getVars():\n",
        "    if abs(var.x) > 1e-6:\n",
        "        print(\"{0} = {1}\".format(var.varName, np.round(var.x, 2)))\n"
      ],
      "metadata": {
        "colab": {
          "base_uri": "https://localhost:8080/"
        },
        "id": "8K8VTYiYma1A",
        "outputId": "ad332486-cc36-4c0c-e27d-0d271987a595"
      },
      "execution_count": 21,
      "outputs": [
        {
          "output_type": "stream",
          "name": "stdout",
          "text": [
            "cr[1] = 15000.0\n",
            "cr[2] = 30000.0\n",
            "end_prod[Premium_fuel] = 6817.78\n",
            "end_prod[Regular_fuel] = 17044.45\n",
            "end_prod[Jet_fuel] = 15156.0\n",
            "end_prod[Lube_oil] = 500.0\n",
            "dist_prod[Light_naphtha] = 6000.0\n",
            "dist_prod[Medium_naphtha] = 10500.0\n",
            "dist_prod[Heavy_naphtha] = 8400.0\n",
            "dist_prod[Light_oil] = 4200.0\n",
            "dist_prod[Heavy_oil] = 8700.0\n",
            "dist_prod[Residuum] = 5550.0\n",
            "napthas_to_reformed_gasoline[Heavy_naphtha] = 5406.86\n",
            "reformed_gasoline = 2433.09\n",
            "intermediate_oils_to_cracked_gasoline[Light_oil] = 4200.0\n",
            "intermediate_oils_to_cracked_gasoline[Heavy_oil] = 3800.0\n",
            "cracking_prods[Cracked_gasoline] = 1936.0\n",
            "cracking_prods[Cracked_oil] = 5706.0\n",
            "motor_fuel_to_regular_motor_fuel[Light_naphtha] = 273.07\n",
            "motor_fuel_to_regular_motor_fuel[Medium_naphtha] = 10500.0\n",
            "motor_fuel_to_regular_motor_fuel[Heavy_naphtha] = 2993.14\n",
            "motor_fuel_to_regular_motor_fuel[Reformed_gasoline] = 1342.24\n",
            "motor_fuel_to_regular_motor_fuel[Cracked_gasoline] = 1936.0\n",
            "motot_fuel_to_premium_motor_fuel[Light_naphtha] = 5726.93\n",
            "motot_fuel_to_premium_motor_fuel[Reformed_gasoline] = 1090.84\n",
            "jet_fuel[Heavy_oil] = 4900.0\n",
            "jet_fuel[Residuum] = 4550.0\n",
            "jet_fuel[Cracked_oil] = 5706.0\n",
            "residuum_used_for_lube_oil = 1000.0\n"
          ]
        }
      ]
    }
  ]
}